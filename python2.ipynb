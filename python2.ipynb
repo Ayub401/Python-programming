{
 "cells": [
  {
   "cell_type": "markdown",
   "metadata": {},
   "source": [
    "# Problem No 1."
   ]
  },
  {
   "cell_type": "code",
   "execution_count": 1,
   "metadata": {},
   "outputs": [
    {
     "name": "stdout",
     "output_type": "stream",
     "text": [
      "Enter a positive number: 21\n",
      "21\n",
      "42\n",
      "63\n",
      "84\n",
      "105\n",
      "126\n",
      "147\n",
      "168\n",
      "189\n",
      "210\n"
     ]
    }
   ],
   "source": [
    "n = int(input(\"Enter a positive number: \"))\n",
    "for x in range(1,11):\n",
    "    print(n*x)"
   ]
  },
  {
   "cell_type": "markdown",
   "metadata": {},
   "source": [
    "# Problem No 2.\n",
    "Steps:\n",
    "1. first i shall filter all the odd numbers between 1 to 1000.\n",
    "2. Now i shall filter all the prime numbers for the list of odd numbers.\n",
    "3. finally i shall fiter consecutive prime numbers."
   ]
  },
  {
   "cell_type": "code",
   "execution_count": 2,
   "metadata": {},
   "outputs": [
    {
     "name": "stdout",
     "output_type": "stream",
     "text": [
      "[(1, 3), (3, 5), (5, 7), (11, 13), (17, 19), (29, 31), (41, 43), (59, 61), (71, 73), (101, 103), (107, 109), (137, 139), (149, 151), (179, 181), (191, 193), (197, 199), (227, 229), (239, 241), (269, 271), (281, 283), (311, 313), (347, 349), (419, 421), (431, 433), (461, 463), (521, 523), (569, 571), (599, 601), (617, 619), (641, 643), (659, 661), (809, 811), (821, 823), (827, 829), (857, 859), (881, 883)]\n"
     ]
    }
   ],
   "source": [
    "Lst = []\n",
    "for x in range(1,1001):\n",
    "    if x%2 != 0:\n",
    "        Lst.append(x)  #creating list of odd numbers.\n",
    "#print(Lst)\n",
    "k = Lst[-1]\n",
    "Lst1 = []\n",
    "S = True\n",
    "for y in range(len(Lst)):\n",
    "    for z in range(3,k+1,2):   #escaping the division from even number as i am diving a list of odd number.\n",
    "        if (Lst[y] % z) == 0 and Lst[y] !=z:  #filtering the prime numbers from list of odd numbers.\n",
    "            S = False\n",
    "            \n",
    "    if S:        \n",
    "        Lst1.append(Lst[y])\n",
    "    S = True\n",
    "#print(Lst1)   #printing the prime numbers which are odd.\n",
    "Lst2 = []\n",
    "x = 0\n",
    "while x < len(Lst1)-1:\n",
    "        if Lst1[x+1]-Lst1[x] == 2:  # finding the consecutive numbers from the list of prime numbers.\n",
    "            Lst2.append((Lst1[x],Lst1[x+1]))   # Creating the list of tuple of twin prime numbers.\n",
    "        x = x+1\n",
    "print(Lst2)            "
   ]
  },
  {
   "cell_type": "markdown",
   "metadata": {},
   "source": [
    "# Problem No 3. "
   ]
  },
  {
   "cell_type": "code",
   "execution_count": 4,
   "metadata": {},
   "outputs": [
    {
     "name": "stdout",
     "output_type": "stream",
     "text": [
      "Enter a positive number: 56\n",
      "The list of prime factor is:  [2, 2, 2, 7]\n"
     ]
    }
   ],
   "source": [
    "N = int(input(\"Enter a positive number: \"))\n",
    "prime_factor = []\n",
    "z = 2\n",
    "import math\n",
    "m = int(math.sqrt(N))+1   #tha value of largest prime factor of N can not be more than sqrt(N).\n",
    "while z <= m:\n",
    "    if N%z == 0:\n",
    "        prime_factor.append(z)  #will append all the 2s which can divide the given number.\n",
    "        N = N//z\n",
    "    else:\n",
    "        z = z+1 \n",
    "if N >2:\n",
    "        prime_factor.append(N)\n",
    "print(\"The list of prime factor is: \",prime_factor)        "
   ]
  },
  {
   "cell_type": "markdown",
   "metadata": {},
   "source": [
    "# Problem No 4.\n",
    "permutation."
   ]
  },
  {
   "cell_type": "code",
   "execution_count": 6,
   "metadata": {},
   "outputs": [
    {
     "name": "stdout",
     "output_type": "stream",
     "text": [
      "enter the numbers of objects: 5\n",
      "How many object at a time: 2\n"
     ]
    },
    {
     "data": {
      "text/plain": [
       "20.0"
      ]
     },
     "execution_count": 6,
     "metadata": {},
     "output_type": "execute_result"
    }
   ],
   "source": [
    "n = int(input(\"enter the numbers of objects: \"))\n",
    "r = int(input(\"How many object at a time: \"))\n",
    "def fact(n):\n",
    "    if n == 1: return 1\n",
    "    else: return n*fact(n-1)\n",
    "\n",
    "def Permutation(n,r):\n",
    "    return (fact(n))/(fact(n-r))\n",
    "Permutation(n,r)"
   ]
  },
  {
   "cell_type": "markdown",
   "metadata": {},
   "source": [
    "Combination"
   ]
  },
  {
   "cell_type": "code",
   "execution_count": 9,
   "metadata": {},
   "outputs": [
    {
     "name": "stdout",
     "output_type": "stream",
     "text": [
      "enter the numbers of objects: 5\n",
      "How many object at a time: 2\n"
     ]
    },
    {
     "data": {
      "text/plain": [
       "10.0"
      ]
     },
     "execution_count": 9,
     "metadata": {},
     "output_type": "execute_result"
    }
   ],
   "source": [
    "n = int(input(\"enter the numbers of objects: \"))\n",
    "r = int(input(\"How many object at a time: \"))\n",
    "def fact(n):\n",
    "    if n == 1: return 1\n",
    "    else: return n*fact(n-1)\n",
    "\n",
    "def Combinations(n,r):\n",
    "    return (fact(n))/(fact(n-r)*fact(r))\n",
    "Combinations(n,r)"
   ]
  },
  {
   "cell_type": "markdown",
   "metadata": {},
   "source": [
    "# Problem No 5."
   ]
  },
  {
   "cell_type": "code",
   "execution_count": 7,
   "metadata": {},
   "outputs": [
    {
     "name": "stdout",
     "output_type": "stream",
     "text": [
      "Enter a positive number: 17\n",
      "1 0 0 0 1 "
     ]
    }
   ],
   "source": [
    "N = int(input(\"Enter a positive number: \"))\n",
    "while N >= 1:\n",
    "    print(N%2, end = \" \")  #printing the reminder of in each division.\n",
    "    N //= 2"
   ]
  },
  {
   "cell_type": "markdown",
   "metadata": {},
   "source": [
    "# Problem No 6."
   ]
  },
  {
   "cell_type": "code",
   "execution_count": 8,
   "metadata": {},
   "outputs": [
    {
     "name": "stdout",
     "output_type": "stream",
     "text": [
      "Enter a number: 407\n",
      "407 is a Armstrong Number:\n"
     ]
    }
   ],
   "source": [
    "a = int(input(\"Enter a number: \"))\n",
    "temp = a\n",
    "def cubesum(a):\n",
    "    Sum = 0\n",
    "    while a>0:\n",
    "        last_digit = a%10   #will give the mast digit of a.\n",
    "        Sum += last_digit**3  # making cube of last digit.\n",
    "        a = a//10\n",
    "    return Sum\n",
    "\n",
    "def IsArmstrong(Sum):\n",
    "    if Sum == temp:  #checking if sum of cube of each digit is equal to the original number.\n",
    "        return Sum \n",
    "    \n",
    "def PrintArmstrong(Sum):\n",
    "    if Sum == temp:\n",
    "        print(\"{} is a Armstrong Number:\".format(temp))\n",
    "    else:\n",
    "        return (\"{} is not a Armstrong Number:\".format(temp))\n",
    "#Function call.    \n",
    "PrintArmstrong(IsArmstrong(cubesum(a)))    "
   ]
  },
  {
   "cell_type": "markdown",
   "metadata": {},
   "source": [
    "# Problem No 7."
   ]
  },
  {
   "cell_type": "code",
   "execution_count": 10,
   "metadata": {},
   "outputs": [
    {
     "name": "stdout",
     "output_type": "stream",
     "text": [
      "Enter a Number: 234\n"
     ]
    },
    {
     "data": {
      "text/plain": [
       "24"
      ]
     },
     "execution_count": 10,
     "metadata": {},
     "output_type": "execute_result"
    }
   ],
   "source": [
    "Num = int(input(\"Enter a Number: \")) \n",
    "def prodDigits(a):\n",
    "    product = 1\n",
    "    while a>0:\n",
    "        last_digit = a%10\n",
    "        product = last_digit*product\n",
    "        a = a//10 \n",
    "    return product  \n",
    "prodDigits(Num)"
   ]
  },
  {
   "cell_type": "markdown",
   "metadata": {},
   "source": [
    "# Problem No 8."
   ]
  },
  {
   "cell_type": "code",
   "execution_count": 34,
   "metadata": {},
   "outputs": [
    {
     "name": "stdout",
     "output_type": "stream",
     "text": [
      "2\n"
     ]
    }
   ],
   "source": [
    "#Num = int(input(\"Enter a Number: \"))\n",
    "Num = 543\n",
    "def prodDigits(Num):\n",
    "    if Num %10 == 0:\n",
    "        return 0\n",
    "    else:    \n",
    "        product = 1\n",
    "        while Num>0:\n",
    "            last_digit = Num%10\n",
    "            product = last_digit*product    \n",
    "            Num = Num//10 \n",
    "        return product \n",
    "#prodDigits(Num)\n",
    "def MDR(product):\n",
    "    #print(product)\n",
    "    if product < 10 :\n",
    "        return product\n",
    "    else:   \n",
    "        root = MDR(prodDigits(product))\n",
    "        \n",
    "        return root\n",
    "    print(root)\n",
    "MDR(prodDigits(Num))\n",
    "\n",
    "Lst = []                     # two store the all the sucessive products.\n",
    "def MPersistance(product):\n",
    "    #print(product)\n",
    "    Lst.append(product)\n",
    "    if product>0:\n",
    "        MPersistance(prodDigits(product))\n",
    "        \n",
    "MPersistance(prodDigits(Num)) \n",
    "#print(Lst)\n",
    "print(len(Lst))"
   ]
  },
  {
   "cell_type": "markdown",
   "metadata": {},
   "source": [
    "# Problem No 9."
   ]
  },
  {
   "cell_type": "code",
   "execution_count": 13,
   "metadata": {},
   "outputs": [
    {
     "name": "stdout",
     "output_type": "stream",
     "text": [
      "Enter a number: 210\n",
      "The list of divisior is: [1, 2, 3, 5, 6, 7, 10, 14, 15, 21, 30, 35, 42, 70, 105]\n"
     ]
    },
    {
     "data": {
      "text/plain": [
       "'The sum of all the divisor of 210 is 366 '"
      ]
     },
     "execution_count": 13,
     "metadata": {},
     "output_type": "execute_result"
    }
   ],
   "source": [
    "num  = int(input(\"Enter a number: \"))\n",
    "def sumPdivisior(num):\n",
    "    Sum = 1\n",
    "    Lst = [1,]\n",
    "    if num%2 == 0:  #checking if number is even, then i shall divide with even numbers only.\n",
    "        for x in range(2,(num//2)+1,1):   #x is always even.\n",
    "            if num%x == 0:\n",
    "                Lst.append(x)\n",
    "                Sum = Sum+x\n",
    "    else:                               #command in here because now num is odd.\n",
    "        for x in range(3,(num//2)+1,2):  # x is always odd.\n",
    "            if num%x == 0:               #checking divisibility of odd numbers only.\n",
    "                Lst.append(x)\n",
    "                Sum = Sum +x \n",
    "    print(\"The list of divisior is:\" ,Lst)            \n",
    "    return \"The sum of all the divisor of {} is {} \".format(num, Sum)\n",
    "sumPdivisior(num)"
   ]
  },
  {
   "cell_type": "markdown",
   "metadata": {},
   "source": [
    "# Problem No 10."
   ]
  },
  {
   "cell_type": "code",
   "execution_count": 29,
   "metadata": {},
   "outputs": [
    {
     "name": "stdout",
     "output_type": "stream",
     "text": [
      "Enter a number: 1000\n",
      "6 is a perfect number \n",
      "28 is a perfect number \n",
      "496 is a perfect number \n"
     ]
    }
   ],
   "source": [
    "num  = int(input(\"Enter a number: \"))\n",
    "\n",
    "def sumPdivisior(z):\n",
    "    Sum = 1\n",
    "    Lst = [1,]\n",
    "    if num%2 == 0:\n",
    "        for x in range(2,(z//2)+1,1):\n",
    "            if z%x == 0:\n",
    "                Lst.append(x)\n",
    "                Sum = Sum+x\n",
    "    else:\n",
    "        for x in range(3,(z//2)+1,2):\n",
    "            if z%x == 0:\n",
    "                Lst.append(x)\n",
    "                Sum = Sum +x  \n",
    "    #print(\"The list of divisior is:\" ,Lst)            \n",
    "    return Sum\n",
    "\n",
    "def Perfect_Number(Sum): \n",
    "    #print(\"Number is {} and the sum is {}\".format(z,Sum))\n",
    "    if z == Sum:\n",
    "        print(\"{} is a perfect number \".format(z))\n",
    "    #else:\n",
    "        #print(\"{} is not a perfect number \".format(z))       \n",
    "for z in range(2,num):        \n",
    "    Perfect_Number(sumPdivisior(z))        "
   ]
  },
  {
   "cell_type": "markdown",
   "metadata": {},
   "source": [
    "### "
   ]
  },
  {
   "cell_type": "markdown",
   "metadata": {},
   "source": [
    "# Problem No 11."
   ]
  },
  {
   "cell_type": "code",
   "execution_count": 3,
   "metadata": {},
   "outputs": [
    {
     "name": "stdout",
     "output_type": "stream",
     "text": [
      "Enter the first number num1: 220\n",
      "Enter second number num2: 284\n",
      "The value of all divisior of num1 is:  284\n",
      "The value of all divisior of num2 is:  220\n",
      "This pair is amicable \n"
     ]
    }
   ],
   "source": [
    "num1  = int(input(\"Enter the first number num1: \"))\n",
    "num2  = int(input(\"Enter second number num2: \"))\n",
    "def sumPdivisior(num):\n",
    "    Sum = 1\n",
    "    Lst = [1,]\n",
    "    if num%2 == 0:\n",
    "        for x in range(2,(num//2)+1,1):\n",
    "            if num%x == 0:\n",
    "                Lst.append(x)\n",
    "                Sum = Sum+x\n",
    "    else:\n",
    "        for x in range(3,(num//2)+1,2):\n",
    "            if num%x == 0:\n",
    "                Lst.append(x)\n",
    "                Sum = Sum +x \n",
    "                \n",
    "    #print(\"The list of divisior is:\" ,Lst)            \n",
    "    return Sum\n",
    "x = sumPdivisior(num1)\n",
    "y = sumPdivisior(num2)\n",
    "print(\"The value of all divisior of num1 is: \",x)\n",
    "print(\"The value of all divisior of num2 is: \",y)\n",
    "if x == num2 and y == num1:\n",
    "    print(\"This pair is amicable \") \n",
    "else:\n",
    "    print(\"This if pair not amicable \")"
   ]
  },
  {
   "cell_type": "code",
   "execution_count": 13,
   "metadata": {},
   "outputs": [
    {
     "name": "stdout",
     "output_type": "stream",
     "text": [
      "[(220, 284), (284, 220), (1184, 1210), (1210, 1184), (2620, 2924), (2924, 2620)]\n",
      " The pair of Unique Amicable number\n",
      "(220, 284);(1184, 1210);(2620, 2924);"
     ]
    }
   ],
   "source": [
    "def sumPdivisior(num):\n",
    "    Sum = 1\n",
    "    Lst = [1,]\n",
    "    if num%2 == 0:\n",
    "        for x in range(2,(num//2)+1,1):\n",
    "            if num%x == 0:\n",
    "                Lst.append(x)\n",
    "                Sum = Sum+x\n",
    "    else:\n",
    "        for x in range(3,(num//2)+1,2):\n",
    "            if num%x == 0:\n",
    "                Lst.append(x)\n",
    "                Sum = Sum +x             \n",
    "    return Sum\n",
    "z = []\n",
    "for g in range (1,3000):\n",
    "    z.append(g)\n",
    "#print(\"The list iof all the numbers in the given range\",z)     \n",
    "x = list(map(sumPdivisior,range(1,3000)))\n",
    "    \n",
    "#print(\"The list of sum of all divisior of correspondng numbers in the given range is: \",x) \n",
    "j = len(x)\n",
    "k = len(z)\n",
    "#print((j,k))\n",
    "\n",
    "L = []\n",
    "for u in range(0,j-2):   #-2 otherwise list index will be out of range.\n",
    "    for v in range(0,k-2):\n",
    "        if x[u] == z[v+1] and x[v+1] == z[u] and x[v+1] != x[u]: #comparing the list of number and list of sumdivisior.\n",
    "                    L.append((x[v+1],x[u]))    #storing the pair of numbers in a list.\n",
    "print(L)\n",
    "print(\" The pair of Unique Amicable number\")\n",
    "for p in range(0,len(L),2):   #filter out the repeative number.\n",
    "    print(L[p], end = \";\")"
   ]
  },
  {
   "cell_type": "markdown",
   "metadata": {},
   "source": [
    "# Problem No 12."
   ]
  },
  {
   "cell_type": "code",
   "execution_count": 7,
   "metadata": {},
   "outputs": [
    {
     "name": "stdout",
     "output_type": "stream",
     "text": [
      "[1, 3, 5, 7, 9]\n"
     ]
    }
   ],
   "source": [
    "L = [1,2,3,4,5,6,7,8,9,10]\n",
    "odd_numbers = list(filter(lambda x:(x%2 !=0),L))\n",
    "print(odd_numbers)"
   ]
  },
  {
   "cell_type": "markdown",
   "metadata": {},
   "source": [
    "# Problem No 13."
   ]
  },
  {
   "cell_type": "code",
   "execution_count": 8,
   "metadata": {},
   "outputs": [
    {
     "name": "stdout",
     "output_type": "stream",
     "text": [
      "[1, 8, 27, 64, 125, 216, 343, 512, 729, 1000]\n"
     ]
    }
   ],
   "source": [
    "lst = [1,2,3,4,5,6,7,8,9,10]\n",
    "def Cube(lst):\n",
    "    return lst**3\n",
    "Cube_Numbers = list(map(Cube,lst))\n",
    "print(Cube_Numbers)    "
   ]
  },
  {
   "cell_type": "markdown",
   "metadata": {},
   "source": [
    "# Problem No 14."
   ]
  },
  {
   "cell_type": "code",
   "execution_count": 9,
   "metadata": {},
   "outputs": [
    {
     "name": "stdout",
     "output_type": "stream",
     "text": [
      "[1, 27, 125, 343, 729]\n"
     ]
    }
   ],
   "source": [
    "L = [1,2,3,4,5,6,7,8,9,10]\n",
    "def Cube(output):\n",
    "    return output**3\n",
    "x = list(map(Cube, list(filter(lambda x:(x%2 !=0),L))))\n",
    "print(x)"
   ]
  },
  {
   "cell_type": "code",
   "execution_count": null,
   "metadata": {},
   "outputs": [],
   "source": []
  }
 ],
 "metadata": {
  "kernelspec": {
   "display_name": "Python 3",
   "language": "python",
   "name": "python3"
  },
  "language_info": {
   "codemirror_mode": {
    "name": "ipython",
    "version": 3
   },
   "file_extension": ".py",
   "mimetype": "text/x-python",
   "name": "python",
   "nbconvert_exporter": "python",
   "pygments_lexer": "ipython3",
   "version": "3.8.5"
  }
 },
 "nbformat": 4,
 "nbformat_minor": 4
}
