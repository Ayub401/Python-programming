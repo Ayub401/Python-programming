{
 "cells": [
  {
   "cell_type": "markdown",
   "metadata": {
    "colab_type": "text",
    "id": "C0xO8JV9B-ki"
   },
   "source": [
    "# Problem No 1."
   ]
  },
  {
   "cell_type": "code",
   "execution_count": 34,
   "metadata": {},
   "outputs": [
    {
     "name": "stdout",
     "output_type": "stream",
     "text": [
      "Enter the number of rows in Matrix_1: 3\n",
      "Enter the number of column in Matrix_2: 3\n",
      "Enter the No of column matrix_1 or No of row of Matrix_2: 3\n",
      "Enter 9 elements for Matrix_1\n",
      "1\n",
      "2\n",
      "3\n",
      "4\n",
      "5\n",
      "6\n",
      "7\n",
      "8\n",
      "9\n",
      "The matrix_1 is\n",
      "1    2    3    \n",
      "4    5    6    \n",
      "7    8    9    \n",
      "Enter 9 elements for Matrix_2\n",
      "1\n",
      "0\n",
      "0\n",
      "0\n",
      "1\n",
      "0\n",
      "0\n",
      "0\n",
      "1\n",
      "The matrix_2 is\n",
      "1    0    0    \n",
      "0    1    0    \n",
      "0    0    1    \n",
      "The multiplication of the matrix is\n",
      "1    2    3    \n",
      "4    5    6    \n",
      "7    8    9    \n"
     ]
    }
   ],
   "source": [
    "p = int(input(\"Enter the number of rows in Matrix_1: \"))\n",
    "q = int(input(\"Enter the number of column in Matrix_2: \"))\n",
    "r = int(input(\"Enter the No of column matrix_1 or No of row of Matrix_2: \"))\n",
    "\n",
    "#Useing list comprehensive to take user input and to store them in a list of list.\n",
    "print(\"Enter {} elements for Matrix_1\".format(p*r))\n",
    "Matrix_1 = [[int(input()) for row in range(p)] for column in range(r)]\n",
    "\n",
    "#printing the Matrix_1\n",
    "print(\"The matrix_1 is\")\n",
    "for row in range(p):\n",
    "    for column in range(r):\n",
    "        print(format(Matrix_1[row][column], \"<4\"), end = \" \")\n",
    "    print() \n",
    "    \n",
    "#taking input for Matrix_2\n",
    "print(\"Enter {} elements for Matrix_2\".format(q*r))\n",
    "Matrix_2 = [[int(input()) for row in range(q)] for column in range(r)]\n",
    "#printing the Matrix_2\n",
    "print(\"The matrix_2 is\")\n",
    "for row in range(p):\n",
    "    for column in range(r):\n",
    "        print(format(Matrix_2[row][column], \"<4\"), end = \" \")\n",
    "    print()\n",
    "\n",
    "def matrix_mul(Matrix_1, Matrix_2):\n",
    " \n",
    "    #creating a zero matrix to store the product.\n",
    "    Result = [[0 for row in range (p)] for colmun in range(q) ]\n",
    "\n",
    "\n",
    "    #code for matrix multiplication\n",
    "    for row in range(p):\n",
    "        for column in range(q):\n",
    "            for k in range(r):        #this loop to add the multiplications.\n",
    "                Result[row][column] = Result[row][column] + Matrix_1[row][k]*Matrix_2[k][column]\n",
    "    print(\"The multiplication of the matrix is\") #just a message\n",
    "    \n",
    "    #priting the Result matrix\n",
    "    for row in range(p):\n",
    "        for column in range(r):\n",
    "            print(format(Result[row][column], \"<4\"), end = \" \")\n",
    "        print()\n",
    "       \n",
    "matrix_mul(Matrix_1, Matrix_2)        "
   ]
  },
  {
   "cell_type": "markdown",
   "metadata": {
    "colab_type": "text",
    "id": "at4VwLggB-kn"
   },
   "source": [
    "# Problem No 2."
   ]
  },
  {
   "cell_type": "code",
   "execution_count": 4,
   "metadata": {
    "colab": {},
    "colab_type": "code",
    "id": "B6S2dpBhB-kn"
   },
   "outputs": [
    {
     "name": "stdout",
     "output_type": "stream",
     "text": [
      "[79] [28] [100] [100] [79] [100] [79] [79] [100] [100] [100] [5] [27] [45] [100] [79] [100] [13] [79] [27] [5] [100] [79] [28] [45] [100] [100] [13] [45] [27] [79] [79] [79] [27] [28] [79] [28] [45] [100] [45] [79] [79] [100] [10] [100] [79] [100] [45] [100] [45] [28] [27] [28] [13] [100] [79] [100] [100] [45] [100] [100] [6] [79] [100] [28] [27] [28] [45] [27] [27] [10] [100] [79] [27] [100] [79] [10] [100] [27] [100] [79] [79] [79] [79] [100] [79] [27] [45] [100] [13] [79] [10] [79] [27] [100] [45] [45] [100] [79] [100] "
     ]
    }
   ],
   "source": [
    "import random\n",
    "A = [0, 5, 27, 6, 13, 28, 100, 45, 10, 79]\n",
    "Sum = sum(A)\n",
    "#print(Sum)\n",
    "\n",
    "def pick_a_number_from_list(A):\n",
    "    weight_list = []  #weight of each element in the list will be store here.\n",
    "    for i in A:\n",
    "        weight_list.append(i/Sum)\n",
    "    #print(weight_list)   \n",
    "    selected_random_number = random.choices(A, weights = weight_list)\n",
    " \n",
    "    return selected_random_number\n",
    "pick_a_number_from_list(A)\n",
    "def sampling_based_on_magnitued():\n",
    "    for j in range(1,101):\n",
    "        number = pick_a_number_from_list(A)\n",
    "        print(number, end = \" \")\n",
    "\n",
    "sampling_based_on_magnitued()"
   ]
  },
  {
   "cell_type": "markdown",
   "metadata": {
    "colab_type": "text",
    "id": "D1xQy2WWB-kq"
   },
   "source": [
    "# Problem No 3.\n",
    "Note: \"I can't solve the this problem by using regular expression as it has not been tought yet\" "
   ]
  },
  {
   "cell_type": "code",
   "execution_count": 133,
   "metadata": {},
   "outputs": [
    {
     "name": "stdout",
     "output_type": "stream",
     "text": [
      "egdjnr4657&^%%\n",
      " ####\n"
     ]
    }
   ],
   "source": [
    "string = input()\n",
    "New_string = \" \"\n",
    "for x in string:\n",
    "    if x.isdigit():\n",
    "        New_string = New_string + \"#\"\n",
    "print(New_string)        "
   ]
  },
  {
   "cell_type": "markdown",
   "metadata": {},
   "source": [
    "# Problem No 4."
   ]
  },
  {
   "cell_type": "code",
   "execution_count": 4,
   "metadata": {},
   "outputs": [
    {
     "name": "stdout",
     "output_type": "stream",
     "text": [
      "Enter the name of studentsA,B,C,D,E,F,G,H,I,J,K,L,M\n",
      "['A', 'B', 'C', 'D', 'E', 'F', 'G', 'H', 'I', 'J', 'K', 'L', 'M']\n",
      "Enter the marks of the respective students24,56,65,19,33,59,27,88,91,28,44,55,24\n",
      "[24, 56, 65, 19, 33, 59, 27, 88, 91, 28, 44, 55, 24]\n"
     ]
    }
   ],
   "source": [
    "#taking user input and storing them in a list\n",
    "Students = [ x for x in (input(\"Enter the name of students\").split(\",\"))]\n",
    "print(Students)\n",
    "Marks = [int(y) for y in input(\"Enter the marks of the respective students\").split(\",\")]\n",
    "print(Marks)"
   ]
  },
  {
   "cell_type": "code",
   "execution_count": 5,
   "metadata": {},
   "outputs": [
    {
     "name": "stdout",
     "output_type": "stream",
     "text": [
      "[('A', 24), ('B', 56), ('C', 65), ('D', 19), ('E', 33), ('F', 59), ('G', 27), ('H', 88), ('I', 91), ('J', 28), ('K', 44), ('L', 55), ('M', 24)]\n"
     ]
    }
   ],
   "source": [
    "Dash_board = list(zip(Students,Marks))   # creating a list of tuple, the tuple have (student, marks)\n",
    "print(Dash_board)"
   ]
  },
  {
   "cell_type": "code",
   "execution_count": 120,
   "metadata": {},
   "outputs": [
    {
     "name": "stdout",
     "output_type": "stream",
     "text": [
      "[('D', 19), ('A', 24), ('M', 24), ('G', 27), ('J', 28), ('E', 33), ('K', 44), ('L', 55), ('B', 56), ('F', 59), ('C', 65), ('H', 88), ('I', 91)]\n"
     ]
    }
   ],
   "source": [
    "Len = len(Dash_board)    #sorting the Dash_board in descending order.\n",
    "#print(Len)\n",
    "for i in range(Len-1):\n",
    "    for j in range(i+1,Len):\n",
    "        if Dash_board[i][1] >= Dash_board[j][1]:\n",
    "            temp = Dash_board[i]    #swaping the values\n",
    "            Dash_board[i] = Dash_board[j]\n",
    "            Dash_board[j] = temp\n",
    "print(Dash_board)   #printing the sorted Dash_board. "
   ]
  },
  {
   "cell_type": "code",
   "execution_count": 9,
   "metadata": {},
   "outputs": [
    {
     "name": "stdout",
     "output_type": "stream",
     "text": [
      "('D', 19)\n",
      "('M', 24)\n",
      "('A', 24)\n",
      "('G', 27)\n",
      "('J', 28)\n",
      "('E', 33)\n"
     ]
    }
   ],
   "source": [
    "# Who got top 5 ranks, in the descending order of marks\n",
    "#print(type(Dash_board))\n",
    "Len = len(Dash_board)\n",
    "for x in range(6):\n",
    "    print(Dash_board[x])\n",
    "    "
   ]
  },
  {
   "cell_type": "code",
   "execution_count": 11,
   "metadata": {},
   "outputs": [
    {
     "name": "stdout",
     "output_type": "stream",
     "text": [
      "('B', 56)\n",
      "('F', 59)\n",
      "('C', 65)\n",
      "('H', 88)\n",
      "('I', 91)\n"
     ]
    }
   ],
   "source": [
    "#Who got least 5 ranks, in the increasing order of marks\n",
    "for x in range(Len-5,Len):\n",
    "    print(Dash_board[x])\n"
   ]
  },
  {
   "cell_type": "code",
   "execution_count": 12,
   "metadata": {},
   "outputs": [
    {
     "name": "stdout",
     "output_type": "stream",
     "text": [
      "[24, 56, 65, 19, 33, 59, 27, 88, 91, 28, 44, 55, 24]\n",
      "('G', 27)\n",
      "('J', 28)\n",
      "('E', 33)\n",
      "('K', 44)\n",
      "('L', 55)\n",
      "('B', 56)\n",
      "('F', 59)\n",
      "('C', 65)\n"
     ]
    }
   ],
   "source": [
    "Total_Marks = 100\n",
    "print(Marks)\n",
    "for x in range(len(Dash_board)):\n",
    "    if 25 < Dash_board[x][1] < 75: \n",
    "            print(Dash_board[x])"
   ]
  },
  {
   "cell_type": "markdown",
   "metadata": {
    "colab_type": "text",
    "id": "qha0OhQHB-k1"
   },
   "source": [
    "# Problem No 5."
   ]
  },
  {
   "cell_type": "code",
   "execution_count": 28,
   "metadata": {},
   "outputs": [
    {
     "name": "stdout",
     "output_type": "stream",
     "text": [
      "[(1, 2), (3, 4), (-1, 1), (6, -7), (0, 6), (-5, -8), (-1, -1), (6, 0), (1, -1)]\n",
      "(3, -4)\n"
     ]
    }
   ],
   "source": [
    "S = [(1,2),(3,4),(-1,1),(6,-7),(0,6),(-5,-8),(-1,-1),(6,0),(1,-1)]\n",
    "P = (3,-4)\n",
    "print(S)\n",
    "print(P)\n",
    "p = P[0]\n",
    "q = P[1]"
   ]
  },
  {
   "cell_type": "code",
   "execution_count": 24,
   "metadata": {},
   "outputs": [
    {
     "name": "stdout",
     "output_type": "stream",
     "text": [
      "[((1, 2), 2.0344439357957027), ((3, 4), 1.8545904360032244), ((-1, 1), 2.9996955989856287), ((6, -7), 0.0651251633343851), ((0, 6), 2.498091544796509), ((-5, -8), 1.2021004241368467), ((-1, -1), 1.4288992721907325), ((6, 0), 0.9272952180016123), ((1, -1), 0.14189705460416438)]\n"
     ]
    }
   ],
   "source": [
    "#In this cell i am computing the acos of each point in S from point P and stroring them in list.\n",
    "import math\n",
    "\n",
    "acosine_distance_Lst = []\n",
    "def closest_points_to_p(S, P):\n",
    "    for i in range(len(S)):   #Selecting each tuple in S one by one.\n",
    "        x = S[i][0]\n",
    "        y = S[i][1]\n",
    "        acosine_distance = math.acos((x*p + y*q)/(math.sqrt(x**2 + y**2)*(math.sqrt(p**2 + q**2))))\n",
    "        acosine_distance_Lst.append(acosine_distance)   #storing the acos in a list.\n",
    "        \n",
    "    return list(zip(S,acosine_distance_Lst))   #returning the liost of tuple, the tuple will contain the coridnate and corresponding acosine distance from point P.\n",
    "\n",
    "Coordinate_vs_ditance = closest_points_to_p(S,P)\n",
    "print(Coordinate_vs_ditance)"
   ]
  },
  {
   "cell_type": "code",
   "execution_count": 26,
   "metadata": {},
   "outputs": [
    {
     "name": "stdout",
     "output_type": "stream",
     "text": [
      "[((6, -7), 0.0651251633343851), ((1, -1), 0.14189705460416438), ((6, 0), 0.9272952180016123), ((-5, -8), 1.2021004241368467), ((-1, -1), 1.4288992721907325), ((3, 4), 1.8545904360032244), ((1, 2), 2.0344439357957027), ((0, 6), 2.498091544796509), ((-1, 1), 2.9996955989856287)]\n"
     ]
    }
   ],
   "source": [
    "# In this cell i will sort the Coordinate_vs_ditance on th basis of acosine_distance in descending order.\n",
    "Len = len(Coordinate_vs_ditance)   \n",
    "#print(Len)\n",
    "for i in range(Len-1):\n",
    "    for j in range(i+1,Len):\n",
    "        if Coordinate_vs_ditance[i][1] >= Coordinate_vs_ditance[j][1]:\n",
    "            temp = Coordinate_vs_ditance[i]    #swaping the values\n",
    "            Coordinate_vs_ditance[i] = Coordinate_vs_ditance[j]\n",
    "            Coordinate_vs_ditance[j] = temp\n",
    "print(Coordinate_vs_ditance)   "
   ]
  },
  {
   "cell_type": "code",
   "execution_count": 27,
   "metadata": {},
   "outputs": [
    {
     "name": "stdout",
     "output_type": "stream",
     "text": [
      "(6, -7)\n",
      "(1, -1)\n",
      "(6, 0)\n",
      "(-5, -8)\n",
      "(-1, -1)\n"
     ]
    }
   ],
   "source": [
    "for distance in range(0,5):\n",
    "    print(Coordinate_vs_ditance[distance][0])"
   ]
  },
  {
   "cell_type": "markdown",
   "metadata": {
    "colab_type": "text",
    "id": "-g11jeAiB-k5"
   },
   "source": [
    "<h3> Q6: Find Which line separates oranges and apples</h3>\n",
    "consider you have given two set of data points in the form of list of tuples like \n",
    "<pre>\n",
    "Red =[(R11,R12),(R21,R22),(R31,R32),(R41,R42),(R51,R52),..,(Rn1,Rn2)]\n",
    "Blue=[(B11,B12),(B21,B22),(B31,B32),(B41,B42),(B51,B52),..,(Bm1,Bm2)]\n",
    "</pre>\n",
    "and set of line equations(in the string formate, i.e list of strings)\n",
    "<pre>\n",
    "Lines = [a1x+b1y+c1,a2x+b2y+c2,a3x+b3y+c3,a4x+b4y+c4,..,K lines]\n",
    "Note: you need to string parsing here and get the coefficients of x,y and intercept\n",
    "</pre>\n",
    "your task is to for each line that is given print \"YES\"/\"NO\", you will print yes, if all the red points are one side of the line and blue points are other side of the line, otherwise no\n",
    "<pre>\n",
    "Ex:\n",
    "Red= [(1,1),(2,1),(4,2),(2,4), (-1,4)]\n",
    "Blue= [(-2,-1),(-1,-2),(-3,-2),(-3,-1),(1,-3)]\n",
    "Lines=[\"1x+1y+0\",\"1x-1y+0\",\"1x+0y-3\",\"0x+1y-0.5\"]\n",
    "<img src='https://i.imgur.com/DoQf7mE.jpg' width=400>\n",
    "Output:\n",
    "YES\n",
    "NO\n",
    "NO\n",
    "YES\n",
    "</pre>"
   ]
  },
  {
   "cell_type": "code",
   "execution_count": 82,
   "metadata": {},
   "outputs": [],
   "source": [
    "Red = [(1,1),(2,1),(4,2),(2,4), (-1,4)]\n",
    "Blue = [(-2,-1),(-1,-2),(-3,-2),(-3,-1),(1,-3)]\n",
    "Lines = [\"1x+1y+0\",\"1x-1y+0\",\"1x+0y-3\",\"0x+1y-0.5\"]"
   ]
  },
  {
   "cell_type": "code",
   "execution_count": 141,
   "metadata": {},
   "outputs": [
    {
     "name": "stdout",
     "output_type": "stream",
     "text": [
      "You need to enter comma seprated 2D cooridate for point: \n",
      "How many points do you want to enter for Red :5\n",
      "1,1\n",
      "2,1\n",
      "4,2\n",
      "2,4\n",
      "-1,4\n",
      "The coordinates of Red points are:  [(1, 1), (2, 1), (4, 2), (2, 4), (-1, 4)]\n",
      "How many points do you wants to enter for Blue: 5\n",
      "-2,-1\n",
      "-1,-2\n",
      "-3,-2\n",
      "-3,-1\n",
      "1,-3\n",
      "The coordinates of Blue points are:  [(-2, -1), (-1, -2), (-3, -2), (-3, -1), (1, -3)]\n",
      "Now, enter the equations in formate Ax+By+C,(+/-) mulitple equations will be sepated by comma \n",
      "1x+1y+0,1x-1y+0,1x+0y-3,0x+1y-0.5\n",
      "\n",
      "All the inputs lines are:  ['1x+1y+0', '1x-1y+0', '1x+0y-3', '0x+1y-0.5']\n",
      "\n",
      " Are all the Blue points and Red points exist in the opposite side of line: 1x+1y+0 -->  YES\n",
      "\n",
      " Are all the Blue points and Red points exist in the opposite side of line: 1x-1y+0 -->  NO\n",
      "\n",
      " Are all the Blue points and Red points exist in the opposite side of line: 1x+0y-3 -->  NO\n",
      "\n",
      " Are all the Blue points and Red points exist in the opposite side of line: 0x+1y-0.5 -->  YES\n"
     ]
    }
   ],
   "source": [
    "print(\"You need to enter comma seprated 2D cooridate for point: \")\n",
    "Red = list(tuple(map(int,input().split(\",\"))) for x in range(int(input(\"How many points do you want to enter for Red :\"))))\n",
    "print(\"The coordinates of Red points are: \",Red)\n",
    "Blue = list(tuple(map(int,input().split(\",\"))) for x in range(int(input(\"How many points do you wants to enter for Blue: \"))))\n",
    "print(\"The coordinates of Blue points are: \",Blue)\n",
    "print(\"Now, enter the equations in formate Ax+By+C,(+/-) mulitple equations will be sepated by comma \")\n",
    "Lines = list(input().split(\",\"))\n",
    "print()   #just to create some space in output window.\n",
    "print(\"All the inputs lines are: \",Lines)\n",
    "import re\n",
    "def i_am_the_one(Red,Blue,line):\n",
    "    a, b, c = [float(coef.strip()) for coef in re.split('x|y', line)] #extracting the coefficient of x and y and value of C.\n",
    "    \n",
    "    for x in range(len(Red)):\n",
    "        Value = (a*Red[x][0]) + (b*Red[x][1]) + c\n",
    "        \n",
    "        if Value > 0:      #If two points satisfy this condition it means they are on the same side.\n",
    "            pass\n",
    "        else:\n",
    "            return \"NO\"  \n",
    "        \n",
    "    for y in range(len(Red)):\n",
    "        Value1 = (a*Blue[y][0]) + (b*Blue[y][1]) + c\n",
    "        \n",
    "        if Value1 < 0:      #If two points satisfy this condition it means they are on the same side.\n",
    "            pass\n",
    "        else:\n",
    "            return \"NO\"\n",
    "    return \"YES\" \n",
    "for line in Lines:\n",
    "    Status = i_am_the_one(Red,Blue,line)\n",
    "    print()\n",
    "    print(\" Are all the Blue points and Red points exist in the opposite side of line: {} --> \".format(line),Status)"
   ]
  },
  {
   "cell_type": "markdown",
   "metadata": {
    "colab_type": "text",
    "id": "9OBpURbNB-k9"
   },
   "source": [
    "<h3> Q7: Filling the missing values in the specified formate</h3>\n",
    "You will be given a string with digits and '\\_'(missing value) symbols you have to replace the '\\_' symbols as explained \n",
    "<pre>\n",
    "Ex 1: _, _, _, 24 ==> 24/4, 24/4, 24/4, 24/4 i.e we. have distributed the 24 equally to all 4 places <br>\n",
    "Ex 2: 40, _, _, _, 60 ==> (60+40)/5,(60+40)/5,(60+40)/5,(60+40)/5,(60+40)/5 ==> 20, 20, 20, 20, 20 i.e. the sum of (60+40) is distributed qually to all 5 places<br>\n",
    "Ex 3: 80, _, _, _, _  ==> 80/5,80/5,80/5,80/5,80/5 ==> 16, 16, 16, 16, 16 i.e. the 80 is distributed qually to all 5 missing values that are right to it<br>\n",
    "Ex 4: _, _, 30, _, _, _, 50, _, _  \n",
    "==> we will fill the missing values from left to right \n",
    "    a. first we will distribute the 30 to left two missing values (10, 10, 10, _, _, _, 50, _, _)\n",
    "    b. now distribute the sum (10+50) missing values in between (10, 10, 12, 12, 12, 12, 12, _, _) \n",
    "    c. now we will distribute 12 to right side missing values (10, 10, 12, 12, 12, 12, 4, 4, 4)\n",
    "</pre>\n",
    "for a given string with comma seprate values, which will have both missing values numbers like ex: \"_, _, x, _, _, _\"\n",
    "you need fill the missing values\n",
    "\n",
    "Q: your program reads a string like ex: \"_, _, x, _, _, _\" and returns the filled sequence\n",
    "\n",
    "Ex: \n",
    "<pre>\n",
    "Input1: \"_,_,_,24\"\n",
    "Output1: 6,6,6,6\n",
    "\n",
    "Input2: \"40,_,_,_,60\"\n",
    "Output2: 20,20,20,20,20\n",
    "\n",
    "Input3: \"80,_,_,_,_\"\n",
    "Output3: 16,16,16,16,16\n",
    "\n",
    "Input4: \"_,_,30,_,_,_,50,_,_\"\n",
    "Output4: 10,10,12,12,12,12,4,4,4\n",
    "</pre>\n",
    "\n"
   ]
  },
  {
   "cell_type": "code",
   "execution_count": 34,
   "metadata": {
    "colab": {},
    "colab_type": "code",
    "id": "nZmpzHs_B-k-"
   },
   "outputs": [
    {
     "name": "stdout",
     "output_type": "stream",
     "text": [
      "['10.0', '10.0', '10.0', '_', '_', '_', '50', '_', '_']\n",
      "['10.0', '10.0', '12.0', '12.0', '12.0', '12.0', '12.0', '_', '_']\n",
      "['10.0', '10.0', '12.0', '12.0', '12.0', '12.0', '4.0', '4.0', '4.0']\n"
     ]
    }
   ],
   "source": [
    "def curve_smoothing(string):\n",
    "    Str_List = S.split(\",\")          #it returns me list of all the \"_\" and digits.\n",
    "    #print(Str_List)\n",
    "    #i am trying to locate the first occurance of digit in the Str_List. Left side.\n",
    "    location = 1\n",
    "    for x in range(len(Str_List)):\n",
    "        if Str_List[x] == '_':\n",
    "            location = location+1\n",
    "        else:                       #this condition will be true when x incounter a digit in the Str_List.\n",
    "            #print(x)\n",
    "            #print(location)       #this will tell me the location where digit(30) incounter.\n",
    "            Value = float(Str_List[x])\n",
    "            #print(Value)\n",
    "            for y in range(x+1): \n",
    "                  Str_List[y] =  str((Value)/(location))\n",
    "            break              # i want to break this loop for next iteration of the first for loop.\n",
    "                           #i will deal with the middle part sepratly as i need to work on the updated string.\n",
    "    print(Str_List)\n",
    "    # In this section i will loop throught the middile section of string from 30 t0 50. \n",
    "    first_digit = float(Str_List[x])      #will be 10 as the string is updated in the above loop.\n",
    "    #print(first_digit)\n",
    "    count = 1\n",
    "    for i in range(x+1,len(Str_List)):     #starts from the location of 30. i.e x == 2. || i==3.  \n",
    "        if Str_List[i] == \"_\":    #This will becomes falls when Str_List[i] == 50. at i == 6.\n",
    "            count = count+1\n",
    "            #print(count,i)\n",
    "        else:\n",
    "            #print(i)\n",
    "            break\n",
    "\n",
    "    for j in range(x,i+1):          \n",
    "        Value2  = (first_digit) + float(Str_List[i])  #Here, i == 6, Str_List[6] = 50. x == 2,\n",
    "        Str_List[j] = str((Value2)/(count+1))  \n",
    "\n",
    "    print(Str_List)\n",
    "    Last_digit = float(Str_List[i])\n",
    "    #print(Last_digit)\n",
    "    for m in range(i,len(Str_List)):\n",
    "        Value3 = float(Last_digit)\n",
    "      #print(Value3) \n",
    "        Str_List[m] = str((Value3)/(len(Str_List)-(i)))\n",
    "    return Str_List   \n",
    "\n",
    "Str_List = \"_,_,30,_,_,_,50,_,_\"\n",
    "smoothed_values = curve_smoothing(Str_List)\n",
    "print(smoothed_values)"
   ]
  },
  {
   "cell_type": "markdown",
   "metadata": {
    "colab_type": "text",
    "id": "RBz4pzlfB-lB"
   },
   "source": [
    "<h3> Q8: Filling the missing values in the specified formate</h3>\n",
    "You will be given a list of lists, each sublist will be of length 2 i.e. [[x,y],[p,q],[l,m]..[r,s]]\n",
    "consider its like a martrix of n rows and two columns\n",
    "1. the first column F will contain only 5 uniques values (F1, F2, F3, F4, F5)\n",
    "2. the second column S will contain only 3 uniques values (S1, S2, S3)\n",
    "<pre>\n",
    "your task is to find\n",
    "a. Probability of P(F=F1|S==S1), P(F=F1|S==S2), P(F=F1|S==S3)\n",
    "b. Probability of P(F=F2|S==S1), P(F=F2|S==S2), P(F=F2|S==S3)\n",
    "c. Probability of P(F=F3|S==S1), P(F=F3|S==S2), P(F=F3|S==S3)\n",
    "d. Probability of P(F=F4|S==S1), P(F=F4|S==S2), P(F=F4|S==S3)\n",
    "e. Probability of P(F=F5|S==S1), P(F=F5|S==S2), P(F=F5|S==S3)\n",
    "</pre>\n",
    "Ex:\n",
    "\n",
    "<pre>\n",
    "[[F1,S1],[F2,S2],[F3,S3],[F1,S2],[F2,S3],[F3,S2],[F2,S1],[F4,S1],[F4,S3],[F5,S1]]\n",
    "\n",
    "a. P(F=F1|S==S1)=1/4, P(F=F1|S==S2)=1/3, P(F=F1|S==S3)=0/3\n",
    "b. P(F=F2|S==S1)=1/4, P(F=F2|S==S2)=1/3, P(F=F2|S==S3)=1/3\n",
    "c. P(F=F3|S==S1)=0/4, P(F=F3|S==S2)=1/3, P(F=F3|S==S3)=1/3\n",
    "d. P(F=F4|S==S1)=1/4, P(F=F4|S==S2)=0/3, P(F=F4|S==S3)=1/3\n",
    "e. P(F=F5|S==S1)=1/4, P(F=F5|S==S2)=0/3, P(F=F5|S==S3)=0/3\n",
    "</pre>\n",
    "\n",
    "\n"
   ]
  },
  {
   "cell_type": "code",
   "execution_count": 2,
   "metadata": {
    "colab": {},
    "colab_type": "code",
    "id": "e-1giz1MB-lC"
   },
   "outputs": [
    {
     "name": "stdout",
     "output_type": "stream",
     "text": [
      "(Count_F,Count_S) :  1 4\n",
      "P(F=1|S==2) = 1/4\n",
      "\n",
      "(Count_F,Count_S) :  1 3\n",
      "P(F=1|S==3) = 1/3\n",
      "\n",
      "(Count_F,Count_S) :  0 3\n",
      "P(F=1|S==4) = 0\n",
      "\n",
      "(Count_F,Count_S) :  1 4\n",
      "P(F=2|S==2) = 1/4\n",
      "\n",
      "(Count_F,Count_S) :  1 3\n",
      "P(F=2|S==3) = 1/3\n",
      "\n",
      "(Count_F,Count_S) :  1 3\n",
      "P(F=2|S==4) = 1/3\n",
      "\n",
      "(Count_F,Count_S) :  0 4\n",
      "P(F=3|S==2) = 0\n",
      "\n",
      "(Count_F,Count_S) :  1 3\n",
      "P(F=3|S==3) = 1/3\n",
      "\n",
      "(Count_F,Count_S) :  1 3\n",
      "P(F=3|S==4) = 1/3\n",
      "\n",
      "(Count_F,Count_S) :  1 4\n",
      "P(F=4|S==2) = 1/4\n",
      "\n",
      "(Count_F,Count_S) :  0 3\n",
      "P(F=4|S==3) = 0\n",
      "\n",
      "(Count_F,Count_S) :  1 3\n",
      "P(F=4|S==4) = 1/3\n",
      "\n",
      "(Count_F,Count_S) :  1 4\n",
      "P(F=5|S==2) = 1/4\n",
      "\n",
      "(Count_F,Count_S) :  0 3\n",
      "P(F=5|S==3) = 0\n",
      "\n",
      "(Count_F,Count_S) :  0 3\n",
      "P(F=5|S==4) = 0\n",
      "\n"
     ]
    }
   ],
   "source": [
    "A = [[1,2],[2,3],[3,4],[1,3],[2,4],[3,3],[2,2],[4,2],[4,4],[5,2]]\n",
    "from fractions import Fraction\n",
    "def compute_conditional_probabilites(F,S,A):\n",
    "    Count_F = 0\n",
    "    Count_S = 0\n",
    "    for i in range(len(A)):\n",
    "        if(A[i][1] == S):          #Checking for S to be true.\n",
    "            Count_S = Count_S+1      #counting the number of S. this be the sample size.   \n",
    "            if(A[i][0] == F):            #Checking for F to be true, given that S is already true. within for if condintion.\n",
    "                Count_F = Count_F+1   #count the number of F. this be the count where all the condition are ture.\n",
    "    print(\"(Count_F,Count_S) : \",Count_F, Count_S )\n",
    "    print(\"P(F={}|S=={}) =\".format(F,S), Fraction(Count_F, Count_S))\n",
    "    print()            #just to create some space in output window.\n",
    "\n",
    "    \n",
    "for F in [1,2,3,4,5]:\n",
    "    for S in [2,3,4]:   \n",
    "        compute_conditional_probabilites(F,S,A)\n"
   ]
  },
  {
   "cell_type": "markdown",
   "metadata": {
    "colab_type": "text",
    "id": "n4HS87QmB-lF"
   },
   "source": [
    "<h3> Q9: Given two sentances S1, S2</h3>\n",
    "You will be given two sentances S1, S2 your task is to find \n",
    "<pre>\n",
    "a. Number of common words between S1, S2\n",
    "b. Words in S1 but not in S2\n",
    "c. Words in S2 but not in S1\n",
    "</pre>\n",
    "\n",
    "Ex: \n",
    "<pre>\n",
    "S1= \"the first column F will contain only 5 uniques values\"\n",
    "S2= \"the second column S will contain only 3 uniques values\"\n",
    "Output:\n",
    "a. 7\n",
    "b. ['first','F','5']\n",
    "c. ['second','S','3']\n",
    "</pre>"
   ]
  },
  {
   "cell_type": "code",
   "execution_count": 16,
   "metadata": {},
   "outputs": [
    {
     "name": "stdout",
     "output_type": "stream",
     "text": [
      "Enter the first stringthe first column F will contain only 5 uniques values\n",
      "Enter the second stringthe second column S will contain only 3 uniques values\n",
      "\n",
      "The set of comman words are:  {'uniques', 'values', 'will', 'column', 'the', 'only', 'contain'}\n",
      "\n",
      "Words in S1 ot in S2:  {'first', '5', 'F'}\n",
      "\n",
      "Words in S2 not in S1:  {'3', 'S', 'second'}\n"
     ]
    }
   ],
   "source": [
    "#S1 = \"the first column F will contain only 5 uniques values\"\n",
    "#S2 = \"the second column S will contain only 3 uniques values\"\n",
    "S1 = input(\"Enter the first string\")\n",
    "S2 = input(\"Enter the second string\")\n",
    "S1 = set(S1.split())\n",
    "S2 = set(S2.split())\n",
    "#print(S1)\n",
    "#print(S2)\n",
    "def string_features(S1, S2):\n",
    "    \n",
    "    Comman_element = S1.intersection(S2)   #return set of words which is common in both sets.\n",
    "    Element_in_S1_not_in_S2 = S1.difference(S2)     #Return words in S1 but not in S2\n",
    "    Element_in_S2_not_in_S1 = S2.difference(S1)     #return words in S2 but not in S1\n",
    "    print(\"\\nThe set of comman words are: \",Comman_element)\n",
    "    print(\"\\nWords in S1 ot in S2: \",Element_in_S1_not_in_S2)\n",
    "    print(\"\\nWords in S2 not in S1: \",Element_in_S2_not_in_S1)\n",
    "string_features(S1,S2)"
   ]
  },
  {
   "cell_type": "markdown",
   "metadata": {
    "colab_type": "text",
    "id": "XefXVEjCB-lI"
   },
   "source": [
    "<h3> Q10: Given two sentances S1, S2</h3>\n",
    "You will be given a list of lists, each sublist will be of length 2 i.e. [[x,y],[p,q],[l,m]..[r,s]]\n",
    "consider its like a martrix of n rows and two columns\n",
    "\n",
    "a. the first column Y will contain interger values <br>\n",
    "b. the second column $Y_{score}$ will be having float values <br>\n",
    "Your task is to find the value of $f(Y,Y_{score}) = -1*\\frac{1}{n}\\Sigma_{for each Y,Y_{score} pair}(Ylog10(Y_{score})+(1-Y)log10(1-Y_{score}))$ here n is the number of rows in the matrix\n",
    "<pre>\n",
    "Ex:\n",
    "[[1, 0.4], [0, 0.5], [0, 0.9], [0, 0.3], [0, 0.6], [1, 0.1], [1, 0.9], [1, 0.8]]\n",
    "output:\n",
    "0.4243099\n",
    "</pre>\n",
    "$\\frac{-1}{8}\\cdot((1\\cdot log_{10}(0.4)+0\\cdot log_{10}(0.6))+(0\\cdot log_{10}(0.5)+1\\cdot log_{10}(0.5)) + ... + (1\\cdot log_{10}(0.8)+0\\cdot log_{10}(0.2)) )$"
   ]
  },
  {
   "cell_type": "code",
   "execution_count": 93,
   "metadata": {},
   "outputs": [
    {
     "name": "stdout",
     "output_type": "stream",
     "text": [
      "How may pairs would you like to enter8\n",
      "You need to enter Y value first then its coressponding Yscore value\n",
      "1\n",
      "0.4\n",
      "Enter the next pair\n",
      "0\n",
      "0.5\n",
      "Enter the next pair\n",
      "0\n",
      "0.9\n",
      "Enter the next pair\n",
      "0\n",
      "0.3\n",
      "Enter the next pair\n",
      "0\n",
      "0.6\n",
      "Enter the next pair\n",
      "1\n",
      "0.1\n",
      "Enter the next pair\n",
      "1\n",
      "0.9\n",
      "Enter the next pair\n",
      "1\n",
      "0.8\n",
      "Enter the next pair\n",
      "The pair of input is:  [[1, 0.4], [0, 0.5], [0, 0.9], [0, 0.3], [0, 0.6], [1, 0.1], [1, 0.9], [1, 0.8]]\n",
      "The computed value of the expression is\n"
     ]
    },
    {
     "data": {
      "text/plain": [
       "0.42430993457031635"
      ]
     },
     "execution_count": 93,
     "metadata": {},
     "output_type": "execute_result"
    }
   ],
   "source": [
    "import math\n",
    "x = int(input(\"How may pairs would you like to enter\"))\n",
    "print(\"You need to enter Y value first then its coressponding Yscore value\")\n",
    "L = []\n",
    "for x in range(x):\n",
    "    element = [int(input()),float(input())]\n",
    "    print(\"Enter the next pair\")\n",
    "    L.append(element)\n",
    "print(\"The pair of input is: \",L)    \n",
    "def compute_log_loss(L):\n",
    "    Length = len(L)\n",
    "    #print(Length) \n",
    "    Sum = 0\n",
    "    for i in range(8):\n",
    "        Sum  = Sum + ((L[i][0])*(math.log10(L[i][1])))+(1-L[i][0])*(math.log10(1-L[i][1]))\n",
    "    Result = -(Sum/Length)\n",
    "    #print(Sum)\n",
    "    print(\"The computed value of the expression is\")\n",
    "    return Result\n",
    "#L = [[1, 0.4], [0, 0.5], [0, 0.9], [0, 0.3], [0, 0.6], [1, 0.1], [1, 0.9], [1, 0.8]] \n",
    "compute_log_loss(L)"
   ]
  }
 ],
 "metadata": {
  "colab": {
   "collapsed_sections": [],
   "name": "1.Python Assignment.ipynb",
   "provenance": []
  },
  "kernelspec": {
   "display_name": "Python 3",
   "language": "python",
   "name": "python3"
  },
  "language_info": {
   "codemirror_mode": {
    "name": "ipython",
    "version": 3
   },
   "file_extension": ".py",
   "mimetype": "text/x-python",
   "name": "python",
   "nbconvert_exporter": "python",
   "pygments_lexer": "ipython3",
   "version": "3.8.5"
  }
 },
 "nbformat": 4,
 "nbformat_minor": 1
}
