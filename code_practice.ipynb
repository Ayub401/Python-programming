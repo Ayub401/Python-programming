{
 "cells": [
  {
   "cell_type": "code",
   "execution_count": 6,
   "metadata": {},
   "outputs": [
    {
     "name": "stdout",
     "output_type": "stream",
     "text": [
      "5\n",
      "* \n",
      "* * \n",
      "* * * \n",
      "* * * * \n",
      "* * * * * \n"
     ]
    }
   ],
   "source": [
    "n = int(input())\n",
    "for x in range(1, n+1):\n",
    "    for y in range(x):\n",
    "        print(\"* \", end = \"\")\n",
    "    print()    "
   ]
  },
  {
   "cell_type": "code",
   "execution_count": 8,
   "metadata": {},
   "outputs": [
    {
     "name": "stdout",
     "output_type": "stream",
     "text": [
      "5\n",
      "* * * * * \n",
      "* * * * \n",
      "* * * \n",
      "* * \n",
      "* \n",
      "\n"
     ]
    }
   ],
   "source": [
    "n = int(input())\n",
    "for x in range(n+1):\n",
    "    for y in range(n-x):\n",
    "        print(\"* \", end = \"\")\n",
    "    print()    "
   ]
  },
  {
   "cell_type": "code",
   "execution_count": 10,
   "metadata": {},
   "outputs": [
    {
     "name": "stdout",
     "output_type": "stream",
     "text": [
      "5\n",
      "* * * * * \n",
      "* * * * * \n",
      "* * * * * \n",
      "* * * * * \n"
     ]
    }
   ],
   "source": [
    "n = int(input())\n",
    "for x in range(1, n):\n",
    "    for y in range(n):\n",
    "        print(\"* \", end = \"\")\n",
    "    print()    "
   ]
  },
  {
   "cell_type": "code",
   "execution_count": 14,
   "metadata": {},
   "outputs": [
    {
     "name": "stdout",
     "output_type": "stream",
     "text": [
      "  * *   * *   \n",
      "*     *     * \n",
      "*           * \n",
      "  *       *   \n",
      "    *   *     \n",
      "      *       \n"
     ]
    }
   ],
   "source": [
    "for row in range(6):\n",
    "    for column in range(7):\n",
    "        if (row == 0 and column % 3 != 0) or (row == 1 and column %3 == 0) or (row - column == 2) or (row + column == 8):\n",
    "            print(\"* \", end = \"\")\n",
    "        else:\n",
    "            print(\"  \", end =\"\")\n",
    "    print()    "
   ]
  },
  {
   "cell_type": "code",
   "execution_count": 6,
   "metadata": {},
   "outputs": [
    {
     "name": "stdout",
     "output_type": "stream",
     "text": [
      "20\n",
      "False\n"
     ]
    }
   ],
   "source": [
    "def is_leap(year):\n",
    "    leap = False\n",
    "    \n",
    "    # Write your logic here\n",
    "    if (year%4 == 0 and year%100 ==0 and year%400==0):\n",
    "        leap = True     \n",
    "    return leap\n",
    "\n",
    "year = int(input())\n",
    "print(is_leap(year))"
   ]
  },
  {
   "cell_type": "code",
   "execution_count": 3,
   "metadata": {},
   "outputs": [
    {
     "name": "stdout",
     "output_type": "stream",
     "text": [
      "5\n",
      "The perimeter of the square 20\n"
     ]
    }
   ],
   "source": [
    "def primeter_Of_Suare(side):\n",
    "    perimeter = 4*side\n",
    "    return perimeter\n",
    "side = int(input())\n",
    "print(\"The perimeter of the square\", primeter_Of_Suare(side))"
   ]
  },
  {
   "cell_type": "code",
   "execution_count": null,
   "metadata": {},
   "outputs": [],
   "source": [
    "def count_of_uppercase_and_uppercase_latter(string):\n",
    "    count1 = 0\n",
    "    count2 = 0\n",
    "    for i in string:\n",
    "        if(i.islower()):\n",
    "                count1=count1+1\n",
    "        elif(i.isupper()):\n",
    "                count2=count2+1\n",
    "        return count1,count2        \n",
    "string = input(\"Enter string: \")\n",
    "count_of_uppercase_and_uppercase_latter(string)\n",
    "print(\"The number of lowercase characters is:\", count1)\n",
    "print(\"The number of uppercase characters is:\", count2)"
   ]
  },
  {
   "cell_type": "code",
   "execution_count": 19,
   "metadata": {},
   "outputs": [
    {
     "name": "stdout",
     "output_type": "stream",
     "text": [
      "14\n",
      "14\n"
     ]
    }
   ],
   "source": [
    "def fizz_buzz(number):\n",
    "    # Complete this function\n",
    "    if (number % 3 == 0) and (number % 5 == 0):\n",
    "        print(\"FizzBuzz\")\n",
    "    elif (number % 3 == 0):\n",
    "        print(\"Fizz\")\n",
    "    elif (number % 5 == 0):\n",
    "        print(\"Buzz\")\n",
    "    else:\n",
    "        print(number)\n",
    "        \n",
    "number = int(input())\n",
    "# Call the fizz_buzz function\n",
    "fizz_buzz(number)"
   ]
  },
  {
   "cell_type": "code",
   "execution_count": 22,
   "metadata": {},
   "outputs": [
    {
     "name": "stdout",
     "output_type": "stream",
     "text": [
      "23\n",
      "Warm\n"
     ]
    }
   ],
   "source": [
    "def get_weather_report(temperature):\n",
    "    # Complete this function\n",
    "    if temperature < 22:\n",
    "        print(\"Cold\")\n",
    "    elif 22 <= temperature < 35:\n",
    "        print(\"Warm\")\n",
    "    else:\n",
    "        print(\"Hot\")\n",
    "\n",
    "temperature = int(input())\n",
    "# Call the get_weather_report function\n",
    "get_weather_report(temperature)"
   ]
  },
  {
   "cell_type": "code",
   "execution_count": 23,
   "metadata": {},
   "outputs": [
    {
     "name": "stdout",
     "output_type": "stream",
     "text": [
      "5\n"
     ]
    }
   ],
   "source": [
    "l = []\n",
    "x = int(input())\n",
    "for x \n",
    "print(max(l))"
   ]
  },
  {
   "cell_type": "code",
   "execution_count": 25,
   "metadata": {},
   "outputs": [
    {
     "name": "stdout",
     "output_type": "stream",
     "text": [
      "2,34,56,67,\n",
      "['2', '34', '56', '67', '']\n"
     ]
    }
   ],
   "source": [
    "num = input()\n",
    "num_list = num.split(\",\")\n",
    "print(num_list)"
   ]
  },
  {
   "cell_type": "code",
   "execution_count": 17,
   "metadata": {},
   "outputs": [
    {
     "name": "stdout",
     "output_type": "stream",
     "text": [
      "1,2,3,-4,100\n",
      "2,34,5,-4,1\n",
      "None\n",
      "<class 'NoneType'>\n"
     ]
    }
   ],
   "source": [
    "s1 = set(input().split(\",\"))\n",
    "s2 = set(input().split(\",\"))\n",
    "s3 = s1.intersection(s2)\n",
    "L1 = list(s3)\n"
   ]
  },
  {
   "cell_type": "code",
   "execution_count": 24,
   "metadata": {},
   "outputs": [
    {
     "ename": "KeyboardInterrupt",
     "evalue": "Interrupted by user",
     "output_type": "error",
     "traceback": [
      "\u001b[0;31m---------------------------------------------------------------------------\u001b[0m",
      "\u001b[0;31mKeyboardInterrupt\u001b[0m                         Traceback (most recent call last)",
      "\u001b[0;32m<ipython-input-24-9da93376f675>\u001b[0m in \u001b[0;36m<module>\u001b[0;34m\u001b[0m\n\u001b[0;32m----> 1\u001b[0;31m \u001b[0mlist_a\u001b[0m \u001b[0;34m=\u001b[0m \u001b[0minput\u001b[0m\u001b[0;34m(\u001b[0m\u001b[0;34m)\u001b[0m\u001b[0;34m.\u001b[0m\u001b[0msplit\u001b[0m\u001b[0;34m(\u001b[0m\u001b[0;34m\",\"\u001b[0m\u001b[0;34m)\u001b[0m\u001b[0;34m\u001b[0m\u001b[0;34m\u001b[0m\u001b[0m\n\u001b[0m\u001b[1;32m      2\u001b[0m \u001b[0mlist_b\u001b[0m \u001b[0;34m=\u001b[0m \u001b[0minput\u001b[0m\u001b[0;34m(\u001b[0m\u001b[0;34m)\u001b[0m\u001b[0;34m.\u001b[0m\u001b[0msplit\u001b[0m\u001b[0;34m(\u001b[0m\u001b[0;34m\",\"\u001b[0m\u001b[0;34m)\u001b[0m\u001b[0;34m\u001b[0m\u001b[0;34m\u001b[0m\u001b[0m\n\u001b[1;32m      3\u001b[0m \u001b[0;34m\u001b[0m\u001b[0m\n\u001b[1;32m      4\u001b[0m \u001b[0mnew_list\u001b[0m \u001b[0;34m=\u001b[0m \u001b[0;34m[\u001b[0m\u001b[0;34m]\u001b[0m\u001b[0;34m\u001b[0m\u001b[0;34m\u001b[0m\u001b[0m\n\u001b[1;32m      5\u001b[0m \u001b[0;32mfor\u001b[0m \u001b[0mi\u001b[0m \u001b[0;32min\u001b[0m \u001b[0mlist_a\u001b[0m\u001b[0;34m:\u001b[0m\u001b[0;34m\u001b[0m\u001b[0;34m\u001b[0m\u001b[0m\n",
      "\u001b[0;32m~/opt/anaconda3/lib/python3.8/site-packages/ipykernel/kernelbase.py\u001b[0m in \u001b[0;36mraw_input\u001b[0;34m(self, prompt)\u001b[0m\n\u001b[1;32m    858\u001b[0m                 \u001b[0;34m\"raw_input was called, but this frontend does not support input requests.\"\u001b[0m\u001b[0;34m\u001b[0m\u001b[0;34m\u001b[0m\u001b[0m\n\u001b[1;32m    859\u001b[0m             )\n\u001b[0;32m--> 860\u001b[0;31m         return self._input_request(str(prompt),\n\u001b[0m\u001b[1;32m    861\u001b[0m             \u001b[0mself\u001b[0m\u001b[0;34m.\u001b[0m\u001b[0m_parent_ident\u001b[0m\u001b[0;34m,\u001b[0m\u001b[0;34m\u001b[0m\u001b[0;34m\u001b[0m\u001b[0m\n\u001b[1;32m    862\u001b[0m             \u001b[0mself\u001b[0m\u001b[0;34m.\u001b[0m\u001b[0m_parent_header\u001b[0m\u001b[0;34m,\u001b[0m\u001b[0;34m\u001b[0m\u001b[0;34m\u001b[0m\u001b[0m\n",
      "\u001b[0;32m~/opt/anaconda3/lib/python3.8/site-packages/ipykernel/kernelbase.py\u001b[0m in \u001b[0;36m_input_request\u001b[0;34m(self, prompt, ident, parent, password)\u001b[0m\n\u001b[1;32m    902\u001b[0m             \u001b[0;32mexcept\u001b[0m \u001b[0mKeyboardInterrupt\u001b[0m\u001b[0;34m:\u001b[0m\u001b[0;34m\u001b[0m\u001b[0;34m\u001b[0m\u001b[0m\n\u001b[1;32m    903\u001b[0m                 \u001b[0;31m# re-raise KeyboardInterrupt, to truncate traceback\u001b[0m\u001b[0;34m\u001b[0m\u001b[0;34m\u001b[0m\u001b[0;34m\u001b[0m\u001b[0m\n\u001b[0;32m--> 904\u001b[0;31m                 \u001b[0;32mraise\u001b[0m \u001b[0mKeyboardInterrupt\u001b[0m\u001b[0;34m(\u001b[0m\u001b[0;34m\"Interrupted by user\"\u001b[0m\u001b[0;34m)\u001b[0m \u001b[0;32mfrom\u001b[0m \u001b[0;32mNone\u001b[0m\u001b[0;34m\u001b[0m\u001b[0;34m\u001b[0m\u001b[0m\n\u001b[0m\u001b[1;32m    905\u001b[0m             \u001b[0;32mexcept\u001b[0m \u001b[0mException\u001b[0m \u001b[0;32mas\u001b[0m \u001b[0me\u001b[0m\u001b[0;34m:\u001b[0m\u001b[0;34m\u001b[0m\u001b[0;34m\u001b[0m\u001b[0m\n\u001b[1;32m    906\u001b[0m                 \u001b[0mself\u001b[0m\u001b[0;34m.\u001b[0m\u001b[0mlog\u001b[0m\u001b[0;34m.\u001b[0m\u001b[0mwarning\u001b[0m\u001b[0;34m(\u001b[0m\u001b[0;34m\"Invalid Message:\"\u001b[0m\u001b[0;34m,\u001b[0m \u001b[0mexc_info\u001b[0m\u001b[0;34m=\u001b[0m\u001b[0;32mTrue\u001b[0m\u001b[0;34m)\u001b[0m\u001b[0;34m\u001b[0m\u001b[0;34m\u001b[0m\u001b[0m\n",
      "\u001b[0;31mKeyboardInterrupt\u001b[0m: Interrupted by user"
     ]
    }
   ],
   "source": [
    "list_a = input().split(\",\")\n",
    "list_b = input().split(\",\")\n",
    "\n",
    "new_list = []\n",
    "for i in list_a:\n",
    "    for j in list_b:\n",
    "        if i == j:\n",
    "            new_list.append(i)\n",
    "print(new_list)            "
   ]
  },
  {
   "cell_type": "code",
   "execution_count": 51,
   "metadata": {},
   "outputs": [
    {
     "name": "stdout",
     "output_type": "stream",
     "text": [
      "1 5\n"
     ]
    }
   ],
   "source": [
    "list_a = [1,2,3,4,5]\n",
    "i=0\n",
    "j=0\n",
    "k=6\n",
    "new_list = []\n",
    "for x in range(5):\n",
    "    if k == list_a[i] + list_a[j]:\n",
    "        print(list_a[i] , list_a[j])\n",
    "    j = j+1"
   ]
  },
  {
   "cell_type": "code",
   "execution_count": 56,
   "metadata": {},
   "outputs": [
    {
     "data": {
      "text/plain": [
       "[(),\n",
       " ('a',),\n",
       " ('b',),\n",
       " ('c',),\n",
       " ('d',),\n",
       " ('a', 'b'),\n",
       " ('a', 'c'),\n",
       " ('a', 'd'),\n",
       " ('b', 'c'),\n",
       " ('b', 'd'),\n",
       " ('c', 'd'),\n",
       " ('a', 'b', 'c'),\n",
       " ('a', 'b', 'd'),\n",
       " ('a', 'c', 'd'),\n",
       " ('b', 'c', 'd'),\n",
       " ('a', 'b', 'c', 'd')]"
      ]
     },
     "execution_count": 56,
     "metadata": {},
     "output_type": "execute_result"
    }
   ],
   "source": [
    "from itertools import chain,combinations\n",
    "\n",
    "def powerset(iterable):\n",
    "    s = list(iterable)\n",
    "    return chain.from_iterable(combinations(s, r) for r in range(len(s)+1))\n",
    "list(powerset(\"abcd\"))"
   ]
  },
  {
   "cell_type": "code",
   "execution_count": 23,
   "metadata": {},
   "outputs": [
    {
     "name": "stdout",
     "output_type": "stream",
     "text": [
      "2 4 6 8 10\n",
      "4 8 10 12 16\n",
      "5 10 15 20\n",
      "[10]\n",
      "<class 'set'>\n"
     ]
    }
   ],
   "source": [
    "l1 = [int(i) for i in input().split()]\n",
    "l2 = [int(i) for i in input().split()]\n",
    "l3 = [int(i) for i in input().split()]\n",
    "s1 = set(l1)\n",
    "s2 = set(l2)\n",
    "s3 = set(l3)\n",
    "x1 = s1.intersection(s2)\n",
    "x2 = x1.intersection(s3)\n",
    "print(list(x2))\n",
    "print(type(x2))"
   ]
  },
  {
   "cell_type": "code",
   "execution_count": 3,
   "metadata": {},
   "outputs": [
    {
     "name": "stdout",
     "output_type": "stream",
     "text": [
      "<class 'list'>\n",
      "['ML']\n",
      "[1, 2, 3, 'ML', 4, 2, 'Learning']\n",
      "[1, 2, 3, 'ML', 1, 2, 3, 'ML', 4, 2, 'Learning']\n",
      "['Karishma', 2, 3, 'ML']\n"
     ]
    }
   ],
   "source": [
    "l1 = [1,2,3,\"ML\"]\n",
    "l2 = [4,2,\"Learning\"]\n",
    "print(type(l1))\n",
    "print(l1[3:])\n",
    "print(l1+l2)\n",
    "print((l1*2)+l2)\n",
    "l1[0] = \"Karishma\"\n",
    "print(l1)"
   ]
  },
  {
   "cell_type": "code",
   "execution_count": 29,
   "metadata": {},
   "outputs": [
    {
     "name": "stdout",
     "output_type": "stream",
     "text": [
      "<class 'set'>\n",
      "{2, 3, 4.99, 6, 9, 10.45, -14, -5}\n",
      "[-14, -5, 2, 3, 4.99, 6, 9, 10.45]\n"
     ]
    }
   ],
   "source": [
    "s = {-14,4.99,2,-5,6,2,3,9,10.45}\n",
    "print(type(s))\n",
    "print(s)\n",
    "s2 = sorted(s)\n",
    "print(s2)"
   ]
  },
  {
   "cell_type": "code",
   "execution_count": 40,
   "metadata": {},
   "outputs": [
    {
     "name": "stdout",
     "output_type": "stream",
     "text": [
      "{'g', 'm', 'd', 'f'}\n",
      "{'d': None, 'm': None, 'g': None, 'f': None}\n",
      "{'d': 43, 'm': 43, 'g': 43, 'f': 43}\n",
      "['d', 'm', 'g', 'f']\n",
      "['d', 'm', 'g', 'f']\n"
     ]
    }
   ],
   "source": [
    "s1 = \"dmgf\"\n",
    "print(set(s1))\n",
    "print(dict.fromkeys(s1))     #no dublicate keys are allowed in dict.\n",
    "print(dict.fromkeys(s1, 43,)) # only two argument can be passed inside formkeys.\n",
    "print(list(dict.fromkeys(s1)))\n",
    "print(list(s1))"
   ]
  },
  {
   "cell_type": "code",
   "execution_count": 45,
   "metadata": {},
   "outputs": [
    {
     "name": "stdout",
     "output_type": "stream",
     "text": [
      "{1: 'a', 2: 'b', 'c': 'ML'}\n",
      "dict_keys([1, 2, 'c'])\n"
     ]
    }
   ],
   "source": [
    "d = {1:\"a\",2:\"b\",\"c\":\"ML\"}\n",
    "print(d)\n",
    "print(d.keys())"
   ]
  },
  {
   "cell_type": "code",
   "execution_count": 46,
   "metadata": {},
   "outputs": [
    {
     "name": "stdout",
     "output_type": "stream",
     "text": [
      "ML\n",
      "dict_values(['a', 'b', 'ML'])\n",
      "<class 'dict_values'>\n"
     ]
    }
   ],
   "source": [
    "print(d[\"c\"])  #accessing the values from dict.enter keys.\n",
    "print(d.values())\n",
    "x = d.values()\n",
    "print(type(x))"
   ]
  },
  {
   "cell_type": "code",
   "execution_count": 59,
   "metadata": {},
   "outputs": [
    {
     "name": "stdout",
     "output_type": "stream",
     "text": [
      "5.0\n",
      "100\n",
      "456\n",
      "<class 'str'>\n"
     ]
    },
    {
     "ename": "ValueError",
     "evalue": "invalid literal for int() with base 10: 'karishma'",
     "output_type": "error",
     "traceback": [
      "\u001b[0;31m---------------------------------------------------------------------------\u001b[0m",
      "\u001b[0;31mValueError\u001b[0m                                Traceback (most recent call last)",
      "\u001b[0;32m<ipython-input-59-a2a3c1f30012>\u001b[0m in \u001b[0;36m<module>\u001b[0;34m\u001b[0m\n\u001b[1;32m      5\u001b[0m \u001b[0mprint\u001b[0m\u001b[0;34m(\u001b[0m\u001b[0mtype\u001b[0m\u001b[0;34m(\u001b[0m\u001b[0mx\u001b[0m\u001b[0;34m)\u001b[0m\u001b[0;34m)\u001b[0m\u001b[0;34m\u001b[0m\u001b[0;34m\u001b[0m\u001b[0m\n\u001b[1;32m      6\u001b[0m \u001b[0;31m#int(100ST)\u001b[0m\u001b[0;34m\u001b[0m\u001b[0;34m\u001b[0m\u001b[0;34m\u001b[0m\u001b[0m\n\u001b[0;32m----> 7\u001b[0;31m \u001b[0mint\u001b[0m\u001b[0;34m(\u001b[0m\u001b[0;34m\"karishma\"\u001b[0m\u001b[0;34m)\u001b[0m\u001b[0;34m\u001b[0m\u001b[0;34m\u001b[0m\u001b[0m\n\u001b[0m",
      "\u001b[0;31mValueError\u001b[0m: invalid literal for int() with base 10: 'karishma'"
     ]
    }
   ],
   "source": [
    "print(float(5))\n",
    "print(int(100.4563))\n",
    "print(str(456))\n",
    "x = str(200)\n",
    "print(type(x))\n",
    "#int(100ST)\n",
    "int(\"karishma\")  # an str can not convert to int, incorrect mathematics."
   ]
  },
  {
   "cell_type": "code",
   "execution_count": 63,
   "metadata": {},
   "outputs": [
    {
     "data": {
      "text/plain": [
       "['K', 'a', 'r', 'i', 's', 'h', 'm', 'a']"
      ]
     },
     "execution_count": 63,
     "metadata": {},
     "output_type": "execute_result"
    }
   ],
   "source": [
    "s = 'Karishma'\n",
    "list(s)"
   ]
  },
  {
   "cell_type": "code",
   "execution_count": 68,
   "metadata": {},
   "outputs": [
    {
     "name": "stdout",
     "output_type": "stream",
     "text": [
      "The balue of a is:10 and the value of b is:30\n"
     ]
    }
   ],
   "source": [
    "a, b = 10, 30\n",
    "print(\"The balue of a is:{} and the value of b is:{}\".format(a,b))"
   ]
  },
  {
   "cell_type": "code",
   "execution_count": 70,
   "metadata": {},
   "outputs": [
    {
     "name": "stdout",
     "output_type": "stream",
     "text": [
      "The balue of a is:10 and the value of b is:30\n"
     ]
    }
   ],
   "source": [
    "#value arguments\n",
    "a, b = 10, 30\n",
    "print(\"The balue of a is:{1} and the value of b is:{0}\".format(b,a))"
   ]
  },
  {
   "cell_type": "code",
   "execution_count": 72,
   "metadata": {},
   "outputs": [
    {
     "name": "stdout",
     "output_type": "stream",
     "text": [
      "Hello Neha, Good Morning\n"
     ]
    }
   ],
   "source": [
    "#keywords arguments\n",
    "print(\"Hello {name}, {greeting}\".format(name = \"Neha\", greeting = \"Good Morning\"))"
   ]
  },
  {
   "cell_type": "code",
   "execution_count": 76,
   "metadata": {},
   "outputs": [
    {
     "name": "stdout",
     "output_type": "stream",
     "text": [
      "The story of juhi, seema and sakira is fabulous\n"
     ]
    }
   ],
   "source": [
    "print(\"The story of {0}, {1} and {others} is fabulous\".format(\"juhi\", \"seema\", others = \"sakira\" ))"
   ]
  },
  {
   "cell_type": "code",
   "execution_count": 80,
   "metadata": {},
   "outputs": [
    {
     "name": "stdout",
     "output_type": "stream",
     "text": [
      "234\n",
      "<class 'str'>\n"
     ]
    }
   ],
   "source": [
    "num = input()  # takes all input as str\n",
    "print(type(num))"
   ]
  },
  {
   "cell_type": "code",
   "execution_count": 81,
   "metadata": {},
   "outputs": [
    {
     "name": "stdout",
     "output_type": "stream",
     "text": [
      "234\n",
      "<class 'int'>\n"
     ]
    }
   ],
   "source": [
    "num = int(input())  # input will be converted to a int value.\n",
    "print(type(num))"
   ]
  },
  {
   "cell_type": "code",
   "execution_count": 89,
   "metadata": {},
   "outputs": [
    {
     "name": "stdout",
     "output_type": "stream",
     "text": [
      "23.23,234,454\n",
      "<class 'list'>\n"
     ]
    }
   ],
   "source": [
    "#taking mupltiple input in single line, will store the element in a list.\n",
    "num1 = input().split(\",\")\n",
    "print(type(num1))"
   ]
  },
  {
   "cell_type": "code",
   "execution_count": 98,
   "metadata": {},
   "outputs": [
    {
     "name": "stdout",
     "output_type": "stream",
     "text": [
      "2 3 4 5\n",
      "<class 'list'>\n"
     ]
    }
   ],
   "source": [
    "l1 = input().split(\" \")\n",
    "print(type(l1))"
   ]
  },
  {
   "cell_type": "code",
   "execution_count": 100,
   "metadata": {},
   "outputs": [
    {
     "name": "stdout",
     "output_type": "stream",
     "text": [
      "9\n"
     ]
    }
   ],
   "source": [
    "a = 3\n",
    "b = 2\n",
    "x = a**b\n",
    "print(x)"
   ]
  },
  {
   "cell_type": "code",
   "execution_count": 101,
   "metadata": {},
   "outputs": [
    {
     "data": {
      "text/plain": [
       "1"
      ]
     },
     "execution_count": 101,
     "metadata": {},
     "output_type": "execute_result"
    }
   ],
   "source": [
    "a//b  # floor value, greatest integer function."
   ]
  },
  {
   "cell_type": "code",
   "execution_count": 103,
   "metadata": {},
   "outputs": [
    {
     "name": "stdout",
     "output_type": "stream",
     "text": [
      "2\n"
     ]
    }
   ],
   "source": [
    "x = 10\n",
    "x &= 3\n",
    "print(x)"
   ]
  },
  {
   "cell_type": "code",
   "execution_count": 108,
   "metadata": {},
   "outputs": [
    {
     "name": "stdout",
     "output_type": "stream",
     "text": [
      "True\n",
      "True\n"
     ]
    }
   ],
   "source": [
    "lst = [1,2,4,4,4,4,3,5,6,9]\n",
    "print(4 in lst)\n",
    "print(10 not in lst)"
   ]
  },
  {
   "cell_type": "code",
   "execution_count": 110,
   "metadata": {},
   "outputs": [
    {
     "name": "stdout",
     "output_type": "stream",
     "text": [
      "True\n"
     ]
    }
   ],
   "source": [
    "t = {1,2,4,5, \"ML\",\"Learning\"}\n",
    "print(\"ML\" in t)"
   ]
  },
  {
   "cell_type": "code",
   "execution_count": 127,
   "metadata": {},
   "outputs": [
    {
     "ename": "TypeError",
     "evalue": "'str' object does not support item assignment",
     "output_type": "error",
     "traceback": [
      "\u001b[0;31m---------------------------------------------------------------------------\u001b[0m",
      "\u001b[0;31mTypeError\u001b[0m                                 Traceback (most recent call last)",
      "\u001b[0;32m<ipython-input-127-464b2a6acfe1>\u001b[0m in \u001b[0;36m<module>\u001b[0;34m\u001b[0m\n\u001b[1;32m      1\u001b[0m \u001b[0mx\u001b[0m \u001b[0;34m=\u001b[0m \u001b[0;34m\"Geeks_for_Geeks\"\u001b[0m\u001b[0;34m\u001b[0m\u001b[0;34m\u001b[0m\u001b[0m\n\u001b[0;32m----> 2\u001b[0;31m \u001b[0mx\u001b[0m\u001b[0;34m[\u001b[0m\u001b[0;36m5\u001b[0m\u001b[0;34m]\u001b[0m \u001b[0;34m=\u001b[0m \u001b[0;34m\" \"\u001b[0m\u001b[0;34m\u001b[0m\u001b[0;34m\u001b[0m\u001b[0m\n\u001b[0m\u001b[1;32m      3\u001b[0m \u001b[0mprint\u001b[0m\u001b[0;34m(\u001b[0m\u001b[0mx\u001b[0m\u001b[0;34m)\u001b[0m\u001b[0;34m\u001b[0m\u001b[0;34m\u001b[0m\u001b[0m\n",
      "\u001b[0;31mTypeError\u001b[0m: 'str' object does not support item assignment"
     ]
    }
   ],
   "source": [
    "x = \""
   ]
  },
  {
   "cell_type": "code",
   "execution_count": 132,
   "metadata": {},
   "outputs": [
    {
     "name": "stdout",
     "output_type": "stream",
     "text": [
      "0\n",
      "Zero\n"
     ]
    }
   ],
   "source": [
    "n = int(input())\n",
    "if n>=0:\n",
    "    if n == 0:\n",
    "        print(\"Zero\")\n",
    "    else:    \n",
    "        print(\"A positive number\")\n",
    "else:\n",
    "    print(\"A negative number\")"
   ]
  },
  {
   "cell_type": "code",
   "execution_count": 134,
   "metadata": {},
   "outputs": [
    {
     "name": "stdout",
     "output_type": "stream",
     "text": [
      "120\n"
     ]
    }
   ],
   "source": [
    "# the product of all element in the list\n",
    "lst = [1,2,3,4,5]\n",
    "product = 1\n",
    "for i in lst:\n",
    "    product *= lst[i-1]\n",
    "print(product)    \n",
    "    "
   ]
  },
  {
   "cell_type": "code",
   "execution_count": 8,
   "metadata": {},
   "outputs": [
    {
     "name": "stdout",
     "output_type": "stream",
     "text": [
      "2 2\n",
      "1 2\n",
      "3 4\n",
      "[[1, 2], [3, 4]]\n",
      "[2, 2]\n"
     ]
    }
   ],
   "source": [
    "def print_lower_triangle(matrix, m, n):\n",
    "    # Complete this function\n",
    "    lower_triangle = []\n",
    "    for i in range(m):\n",
    "        for j in range(n):\n",
    "            if i < j :\n",
    "                element = matrix[i][j]\n",
    "        lower_triangle.append(element) \n",
    "    print(lower_triangle)    \n",
    "    \n",
    "\n",
    "def convert_string_to_int(list_a):\n",
    "    new_list = []\n",
    "    for item in list_a:\n",
    "        num = int(item)\n",
    "        new_list.append(num)\n",
    "    return new_list\n",
    "\n",
    "\n",
    "m, n = input().split()\n",
    "m, n = int(m), int(n)\n",
    "\n",
    "num_list = []\n",
    "for i in range(m):\n",
    "    list_a = input().split()\n",
    "    list_a = convert_string_to_int(list_a)\n",
    "    num_list.append(list_a)\n",
    "print(num_list)\n",
    "# Call the print_lower_triangle function\n",
    "print_lower_triangle(num_list, m, n)"
   ]
  },
  {
   "cell_type": "code",
   "execution_count": 7,
   "metadata": {},
   "outputs": [
    {
     "name": "stdout",
     "output_type": "stream",
     "text": [
      "Lower triangular matrix: \n",
      "1 0 0  \n",
      "4 5 0  \n",
      "7 8 9  \n",
      "Upper triangular matrix: \n",
      "1 2 3  \n",
      "0 5 6  \n",
      "0 0 9  \n"
     ]
    }
   ],
   "source": [
    "# Python3 program to print Lower\n",
    "# triangular and Upper triangular\n",
    "# matrix of an array\n",
    "\n",
    "# Function to form lower triangular\n",
    "# matrix\n",
    "def lower(matrix, row, col):\n",
    "\n",
    "\t\n",
    "\tfor i in range(0, row):\n",
    "\t\n",
    "\t\tfor j in range(0, col):\n",
    "\t\t\n",
    "\t\t\tif (i < j):\n",
    "\t\t\t\n",
    "\t\t\t\tprint(\"0\", end = \" \");\n",
    "\t\t\t\n",
    "\t\t\telse:\n",
    "\t\t\t\tprint(matrix[i][j],\n",
    "\t\t\t\t\tend = \" \" );\n",
    "\t\t\n",
    "\t\tprint(\" \");\n",
    "\t\n",
    "# Function to form upper triangular matrix\n",
    "def upper(matrix, row, col):\n",
    "\n",
    "\tfor i in range(0, row):\n",
    "\t\n",
    "\t\tfor j in range(0, col):\n",
    "\t\t\n",
    "\t\t\tif (i > j):\n",
    "\t\t\t\tprint(\"0\", end = \" \");\n",
    "\t\t\t\n",
    "\t\t\telse:\n",
    "\t\t\t\tprint(matrix[i][j],\n",
    "\t\t\t\t\tend = \" \" );\n",
    "\t\t\n",
    "\t\tprint(\" \");\n",
    "\n",
    "# Driver Code\n",
    "matrix = [[1, 2, 3],\n",
    "\t\t[4, 5, 6],\n",
    "\t\t[7, 8, 9]];\n",
    "row = 3;\n",
    "col = 3;\n",
    "\t\n",
    "print(\"Lower triangular matrix: \");\n",
    "lower(matrix, row, col);\n",
    "\t\n",
    "print(\"Upper triangular matrix: \");\n",
    "upper(matrix, row, col);\n",
    "\t\t\n",
    "# This code is contributed by\n",
    "# Shivi_Aggarwal\n"
   ]
  },
  {
   "cell_type": "code",
   "execution_count": null,
   "metadata": {},
   "outputs": [],
   "source": []
  }
 ],
 "metadata": {
  "kernelspec": {
   "display_name": "Python 3",
   "language": "python",
   "name": "python3"
  },
  "language_info": {
   "codemirror_mode": {
    "name": "ipython",
    "version": 3
   },
   "file_extension": ".py",
   "mimetype": "text/x-python",
   "name": "python",
   "nbconvert_exporter": "python",
   "pygments_lexer": "ipython3",
   "version": "3.8.5"
  }
 },
 "nbformat": 4,
 "nbformat_minor": 4
}
